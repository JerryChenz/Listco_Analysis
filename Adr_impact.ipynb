{
  "nbformat": 4,
  "nbformat_minor": 0,
  "metadata": {
    "colab": {
      "provenance": [],
      "authorship_tag": "ABX9TyNX6pRxzliTT+lgIdXITuQV",
      "include_colab_link": true
    },
    "kernelspec": {
      "name": "python3",
      "display_name": "Python 3"
    },
    "language_info": {
      "name": "python"
    }
  },
  "cells": [
    {
      "cell_type": "markdown",
      "metadata": {
        "id": "view-in-github",
        "colab_type": "text"
      },
      "source": [
        "<a href=\"https://colab.research.google.com/github/JerryChenz/Listco_Analysis/blob/main/Adr_impact.ipynb\" target=\"_parent\"><img src=\"https://colab.research.google.com/assets/colab-badge.svg\" alt=\"Open In Colab\"/></a>"
      ]
    },
    {
      "cell_type": "code",
      "execution_count": 4,
      "metadata": {
        "colab": {
          "base_uri": "https://localhost:8080/"
        },
        "id": "_tMO-rrIt7FC",
        "outputId": "725a48c1-d587-42ff-fb9e-75bd2590ceeb"
      },
      "outputs": [
        {
          "output_type": "stream",
          "name": "stdout",
          "text": [
            "            settleDate  susp  closing   bid   ask   low  high     vol    turn  \\\n",
            "atDate                                                                          \n",
            "2025-06-11  2025-06-13     0     1.28  1.20  1.29  1.10  1.28  140000  160440   \n",
            "2025-06-10  2025-06-12     0     1.10  1.05  1.25  1.01  1.18  140000  153880   \n",
            "2025-06-09  2025-06-11     0     1.05  1.04  1.05  1.02  1.37  472000  550520   \n",
            "2025-06-06  2025-06-10     0     1.35  1.33  1.37  1.34  1.35   28000   37720   \n",
            "2025-06-05  2025-06-09     0     1.35  1.30  1.39  1.26  1.36   92000  121520   \n",
            "\n",
            "                VWAP  adjClose  adjBid  adjAsk  adjLow  adjHigh  adjVol  \\\n",
            "atDate                                                                    \n",
            "2025-06-11  1.146000      1.28    1.20    1.29    1.10     1.28  140000   \n",
            "2025-06-10  1.099143      1.10    1.05    1.25    1.01     1.18  140000   \n",
            "2025-06-09  1.166356      1.05    1.04    1.05    1.02     1.37  472000   \n",
            "2025-06-06  1.347143      1.35    1.33    1.37    1.34     1.35   28000   \n",
            "2025-06-05  1.320870      1.35    1.30    1.39    1.26     1.36   92000   \n",
            "\n",
            "            adjVWAP  totalRet  \n",
            "atDate                         \n",
            "2025-06-11  1.14600   0.16364  \n",
            "2025-06-10  1.09914   0.04762  \n",
            "2025-06-09  1.16636  -0.22222  \n",
            "2025-06-06  1.34714   0.00000  \n",
            "2025-06-05  1.32087  -0.03571  \n"
          ]
        }
      ],
      "source": [
        "'''Investigate the impact of American Depositary Receipt (ADR) listings on\n",
        " the OTCQB market on the stock prices of common shares listed in Hong Kong.\n",
        "\n",
        " - 2024年9月27日递交F-6表格\n",
        "- 2024年10月7日美國預託證券ADR计划生效，并登录OTC Pink市场\n",
        "- 2024年12月25日提交OTCQB申请\n",
        "- 2025年2月24日OTCQB升级申请通过\n",
        "- 2025年3月13日开始在OTCQB交易并对外公告\n",
        " '''\n",
        "\n",
        "import pandas as pd\n",
        "import matplotlib.pyplot as plt\n",
        "\n",
        "data_file = 'https://github.com/JerryChenz/Listco_Analysis/blob/main/data/8403.HK_price_12062025.csv?raw=true'\n",
        "\n",
        "# Load CSV data\n",
        "df = pd.read_csv(data_file, parse_dates=['atDate'], dayfirst=True)\n",
        "\n",
        "# Set date as index for time-based operations\n",
        "df.set_index('atDate', inplace=True)\n",
        "\n",
        "print(df.head())"
      ]
    }
  ]
}